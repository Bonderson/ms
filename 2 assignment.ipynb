{
 "cells": [
  {
   "cell_type": "markdown",
   "id": "8289c21c-a626-410d-8216-749c805a0736",
   "metadata": {},
   "source": [
    "# 1 задача"
   ]
  },
  {
   "cell_type": "code",
   "execution_count": 1,
   "id": "dc177674-8529-4c05-b2b7-2c8f0eb824cd",
   "metadata": {},
   "outputs": [],
   "source": [
    "import numpy as np\n",
    "import copy\n",
    "from random import randint\n",
    "from scipy.stats import uniform\n",
    "from scipy.stats import norm\n",
    "from scipy.stats import t\n",
    "from scipy.stats import f\n",
    "from scipy import integrate\n",
    "\n",
    "N = 50\n",
    "\n",
    "def random_vector():\n",
    "    xi = uniform.rvs(scale=2, size=5) - 1\n",
    "    return np.concatenate((xi, norm.rvs(loc=2 + np.matmul(xi, np.array([3, -2, 1, 1, -1]).T), scale=1.5, size=1)))\n",
    "\n",
    "\n",
    "def make_sample(N):\n",
    "    return np.array([random_vector() for _ in range(N)])\n",
    "\n",
    "\n",
    "def linear_regression(X):\n",
    "    N, dim = X.shape[0], X.shape[1] - 1\n",
    "    Y = X.T[dim].T\n",
    "    PSI = np.array([[1] + [X[j][i] for i in range(dim)] for j in range(N)])\n",
    "    F = np.matmul(PSI.T, PSI)\n",
    "    F1 = np.linalg.inv(F)\n",
    "    BETA = np.matmul(np.matmul(F1, PSI.T), Y)\n",
    "    e = Y - np.matmul(PSI, BETA)\n",
    "    RSS = np.matmul(e.T, e)\n",
    "    TSS = np.sum((Y - np.mean(Y)) ** 2)\n",
    "    R = (1 - RSS / TSS) ** 0.5\n",
    "    PVAL = []\n",
    "    for i in range(len(BETA)):\n",
    "        df = N - dim\n",
    "        delta = BETA[i] * df ** 0.5 / (RSS * F1[i][i]) ** 0.5\n",
    "        pval, err = integrate.quad(lambda x: t.pdf(x, df, loc=0, scale=1), np.abs(delta), np.inf)\n",
    "        PVAL.append(2 * pval)\n",
    "    return BETA, R, PVAL, e\n",
    "\n",
    "\n",
    "def regression_info(X):\n",
    "    beta, r, pval, err = linear_regression(X)\n",
    "    print(f\"\"\"Уравнение лин. регрессии: \n",
    "    {round(beta[0], 2)} + {' + '.join(f'({round(beta[i + 1], 2)})*x{i + 1}' for i in range(beta.shape[0] - 1))}\"\"\")\n",
    "    alpha = 0.05\n",
    "    print(\"При этом коэффициент:\")\n",
    "    for i in range(len(pval)):\n",
    "        print(f\"\\tb{i} {(pval[i] >= alpha) * 'не'} явл. значимым с p-val = {round(pval[i], 4)}\")\n",
    "    print()\n",
    "    print(f\"Коэффициент детерминации R = {r}\")\n",
    "\n",
    "\n",
    "def multicollinearity(X):\n",
    "    Rs = []\n",
    "    for k in range(X.shape[1] - 1):\n",
    "        X_ = copy.copy(X.T)\n",
    "        X_[X.shape[1] - 1] = X_[k]\n",
    "        X_ = np.delete(X_, k, 0).T\n",
    "        beta, r, pval, err = linear_regression(X_)\n",
    "        Rs.append(r)\n",
    "    return Rs\n",
    "\n",
    "\n",
    "def collinearity_info(X):\n",
    "    R_trust = 0.7\n",
    "    R = multicollinearity(X)\n",
    "    for k in range(len(R)):\n",
    "        print(f\"x{k + 1}:\")\n",
    "        print(f\"\\tR={round(R[k], 2)} < {R_trust}\\n\\t x{k + 1} лин. {(R[k] < R_trust) * 'не'}зависима от остальных\")\n",
    "        print()\n",
    "\n",
    "\n",
    "def x0_trust(X, x0):\n",
    "    Y = X.T[X.shape[1] - 1].T\n",
    "    PSI = np.array([[1] + [X[j][i] for i in range(X.shape[1] - 1)] for j in range(X.shape[0])])\n",
    "    F = np.matmul(PSI.T, PSI)\n",
    "    F1 = np.linalg.inv(F)\n",
    "    BETA = np.matmul(np.matmul(F1, PSI.T), Y)\n",
    "    e = Y - np.matmul(PSI, BETA)\n",
    "    RSS = np.matmul(e.T, e)\n",
    "    PSI0x = np.array([1] + [x0[i] for i in range(X.shape[1] - 1)])\n",
    "    A = 1 + np.matmul(np.matmul(PSI0x, F1), PSI0x.T)\n",
    "    y0 = np.matmul(PSI0x, BETA.T)\n",
    "    return y0, y0 + np.array([-2.0086, 2.0086]) * ((A * RSS) / (X.shape[0] - X.shape[1] - 1)) ** 0.5\n",
    "\n",
    "\n",
    "def trust_info(X, x0):\n",
    "    y0, dov = x0_trust(X, x0)\n",
    "    print(f\"Прогноз в x0 = {x0}:\\n\\ty0 = {y0}\\nДоверительный интервал\\n\\t{dov}\")\n",
    "\n",
    "\n",
    "def errors(X):\n",
    "    beta, r, pval, err = linear_regression(X)\n",
    "    I = 0\n",
    "    for i in range(len(err) - 1):\n",
    "        for j in range(i + 1, len(err)):\n",
    "            if err[i] > err[j]:\n",
    "                I += 1\n",
    "    delta = (I - len(err) * (len(err) - 1) / 4) / (len(err) ** 3 / 36) ** 0.5\n",
    "    pval, err = integrate.quad(norm.pdf, np.abs(delta), np.inf)\n",
    "    pval *= 2\n",
    "\n",
    "    print(f\"pval = {pval}\\n\"\n",
    "          f\"Гипотеза H0 {'не' * (pval <= 0.05)} является правдоподобной\\n\"\n",
    "          f\"Ошибки {'не' * (pval <= 0.05)} являются независимыми\")\n",
    "\n",
    "\n",
    "def outliers(X):\n",
    "    beta, r, pval, err = linear_regression(X)\n",
    "    e_a = np.abs(err)\n",
    "    m = np.median(e_a)\n",
    "    print(\"Выбросы выборки:\")\n",
    "    for i in range(len(err)):\n",
    "        if not (-2 * m / 0.675 < err[i] < 2 * m / 0.675):\n",
    "            print(f\"\\te{i} = {err[i]} != ({round(-2 * m / 0.675, 2)};{round(2 * m / 0.675, 2)})\")\n",
    "\n",
    "\n",
    "def cross_check(X):\n",
    "    CV = []\n",
    "    Y = X.T[X.shape[1] - 1].T\n",
    "    for i in range(X.shape[0]):\n",
    "        X_ = copy.copy(X)\n",
    "        check_v = X_[i]\n",
    "        X_ = np.delete(X_, i, 0)\n",
    "        beta, r, pval, err = linear_regression(X_)\n",
    "        CV.append((sum(np.concatenate((np.array([1]), check_v[0:X.shape[1] - 1])) * beta) - check_v[X.shape[1] - 1])**2)\n",
    "\n",
    "    CVSS = sum(CV)\n",
    "    TSS = np.sum((Y - np.mean(Y)) ** 2)\n",
    "    RCV = ((TSS - CVSS) / TSS) ** 0.5\n",
    "\n",
    "    return RCV\n",
    "\n",
    "\n",
    "def cross_info(X):\n",
    "    r = cross_check(X)\n",
    "    print(f\"Коэффициент детерминации Rcv = {r}\")\n",
    "\n",
    "\n",
    "def adequacy(X, n):\n",
    "    N, dim = X.shape[0], X.shape[1] - 1\n",
    "    Y = X.T[dim].T\n",
    "    PSI = np.array([[1] + [X[j][i] for i in range(dim)] for j in range(N)])\n",
    "    F = np.matmul(PSI.T, PSI)\n",
    "    F1 = np.linalg.inv(F)\n",
    "    BETA = np.matmul(np.matmul(F1, PSI.T), Y)\n",
    "    e = Y - np.matmul(PSI, BETA)\n",
    "    RSS = np.matmul(e.T, e)\n",
    "    x0 = uniform.rvs(scale=2, size=dim) - 1\n",
    "    \n",
    "    print(f\"Проверка в x0 = {x0}: {n} раз\")\n",
    "    eta = norm.rvs(loc=2 + np.matmul(x0, np.array([3, -2, 1, 1, -1]).T), scale=1.5, size=n)\n",
    "    delta = RSS / ((N - dim) * np.sum((eta - np.mean(eta)) ** 2) / (n - 1))\n",
    "    pval, err = integrate.quad(lambda x: f.pdf(x, N - dim, n - 1), delta, np.inf)\n",
    "    \n",
    "    print(f\"pval = {pval}\\n\"\n",
    "          f\"Гипотеза H0 {'не' * (pval <= 0.05)} является правдоподобной\\n\"\n",
    "          f\"Регрессия {'не' * (pval <= 0.05)} является адекватной\")\n",
    "\n",
    "\n",
    "def del_maxp(X):\n",
    "    beta, r, pval, err = linear_regression(X)\n",
    "    minzn = np.max(pval)\n",
    "    index = pval.index(minzn)\n",
    "    print(f\"Наим. значимость (pval = {round(minzn, 2)}) имеет b{index}\")\n",
    "    return np.delete(X.T, index, 0).T\n",
    "\n",
    "\n",
    "def bootstrap(X, todel, n):\n",
    "    N, dim = X.shape[0], X.shape[1] - 1\n",
    "    beta, r, pval, err = linear_regression(X)\n",
    "    r2 = r * r\n",
    "    X_ = np.delete(X.T, todel, 0).T\n",
    "\n",
    "    beta, r, pval, err = linear_regression(X_)\n",
    "    r12 = r * r\n",
    "\n",
    "    d = r2 - r12\n",
    "\n",
    "    deltas = []\n",
    "    for k in range(n):\n",
    "        podX = np.array([X[randint(0, N - 1)] for _ in range(N)])\n",
    "        podXdel = np.delete(podX.T, todel, 0).T\n",
    "        beta, r, pval, err = linear_regression(podX)\n",
    "        r2 = r * r\n",
    "        beta, r, pval, err = linear_regression(podXdel)\n",
    "        r12 = r * r\n",
    "        delta = r2 - r12\n",
    "        deltas.append(delta)\n",
    "\n",
    "    deltas.sort()\n",
    "    k = 0\n",
    "    while deltas[k] < d:\n",
    "        k += 1\n",
    "    return (k - 1) / n\n",
    "\n",
    "\n",
    "def bootstrap_info(X):\n",
    "    regression_info(X)\n",
    "    print()\n",
    "    X_del = del_maxp(X)\n",
    "    print()\n",
    "    regression_info(X_del)\n",
    "    print()\n",
    "    beta, r, pval, err = linear_regression(X)\n",
    "    minzn = np.max(pval)\n",
    "    index = pval.index(minzn)\n",
    "    pval = bootstrap(X, index, 1000)\n",
    "    print(f\"Удаление переменой {'не' * (pval <= 0.05)}имеет смысл(a) т.к. pval = {pval}\")\n",
    "\n",
    "\n",
    "X = make_sample(N)"
   ]
  },
  {
   "cell_type": "markdown",
   "id": "1fbe2ade-4ac4-4aa6-8226-807c796b252f",
   "metadata": {},
   "source": [
    "## а"
   ]
  },
  {
   "cell_type": "code",
   "execution_count": 2,
   "id": "d75659fa-3707-4727-93f6-847d68fd5c64",
   "metadata": {},
   "outputs": [
    {
     "name": "stdout",
     "output_type": "stream",
     "text": [
      "x1:\n",
      "\tR=0.41 < 0.7\n",
      "\t x1 лин. независима от остальных\n",
      "\n",
      "x2:\n",
      "\tR=0.27 < 0.7\n",
      "\t x2 лин. независима от остальных\n",
      "\n",
      "x3:\n",
      "\tR=0.21 < 0.7\n",
      "\t x3 лин. независима от остальных\n",
      "\n",
      "x4:\n",
      "\tR=0.38 < 0.7\n",
      "\t x4 лин. независима от остальных\n",
      "\n",
      "x5:\n",
      "\tR=0.22 < 0.7\n",
      "\t x5 лин. независима от остальных\n",
      "\n"
     ]
    },
    {
     "name": "stderr",
     "output_type": "stream",
     "text": [
      "/var/folders/gv/c118vm9j4ndfhcj_8_jfnw1h0000gn/T/ipykernel_92071/3633361698.py:69: DeprecationWarning: In future, it will be an error for 'np.bool_' scalars to be interpreted as an index\n",
      "  print(f\"\\tR={round(R[k], 2)} < {R_trust}\\n\\t x{k + 1} лин. {(R[k] < R_trust) * 'не'}зависима от остальных\")\n"
     ]
    }
   ],
   "source": [
    "collinearity_info(X)"
   ]
  },
  {
   "cell_type": "markdown",
   "id": "f66737e5-0368-4f3e-b496-51ce1006e618",
   "metadata": {},
   "source": [
    "## b, c"
   ]
  },
  {
   "cell_type": "code",
   "execution_count": 3,
   "id": "7e6606ef-22bc-42e3-826d-eade9267215d",
   "metadata": {},
   "outputs": [
    {
     "name": "stdout",
     "output_type": "stream",
     "text": [
      "Уравнение лин. регрессии: \n",
      "    1.6 + (2.88)*x1 + (-2.22)*x2 + (0.58)*x3 + (1.06)*x4 + (-1.42)*x5\n",
      "При этом коэффициент:\n",
      "\tb0  явл. значимым с p-val = 0.0\n",
      "\tb1  явл. значимым с p-val = 0.0\n",
      "\tb2  явл. значимым с p-val = 0.0\n",
      "\tb3 не явл. значимым с p-val = 0.122\n",
      "\tb4  явл. значимым с p-val = 0.0113\n",
      "\tb5  явл. значимым с p-val = 0.0003\n",
      "\n",
      "Коэффициент детерминации R = 0.8340294573745411\n"
     ]
    }
   ],
   "source": [
    "regression_info(X)"
   ]
  },
  {
   "cell_type": "markdown",
   "id": "a3a63c6f-9302-42f1-a316-721794241dbf",
   "metadata": {},
   "source": [
    "## d"
   ]
  },
  {
   "cell_type": "code",
   "execution_count": 5,
   "id": "f2ebf447-cf7f-4f9a-ae15-899d9c9aa4fe",
   "metadata": {},
   "outputs": [
    {
     "name": "stdout",
     "output_type": "stream",
     "text": [
      "Прогноз в x0 = [0 0 0 0 0]:\n",
      "\ty0 = 1.6004888280433622\n",
      "Доверительный интервал\n",
      "\t[-1.25652755  4.45750521]\n"
     ]
    }
   ],
   "source": [
    "trust_info(X, np.array([0 for _ in range(5)]))"
   ]
  },
  {
   "cell_type": "markdown",
   "id": "caf7b247-bb08-4dc6-9898-160152309301",
   "metadata": {},
   "source": [
    "## e"
   ]
  },
  {
   "cell_type": "code",
   "execution_count": 7,
   "id": "a5a6c21f-38bc-4220-b41f-2e301f1ddd65",
   "metadata": {},
   "outputs": [
    {
     "name": "stdout",
     "output_type": "stream",
     "text": [
      "pval = 0.363917791624866\n",
      "Гипотеза H0  является правдоподобной\n",
      "Ошибки  являются независимыми\n"
     ]
    }
   ],
   "source": [
    "errors(X)"
   ]
  },
  {
   "cell_type": "markdown",
   "id": "6f45d34c-b5c2-463e-9c0e-a7ea4c92f525",
   "metadata": {},
   "source": [
    "## g"
   ]
  },
  {
   "cell_type": "code",
   "execution_count": 9,
   "id": "7e399e1a-70ce-4dfe-9823-eb22328c5e2a",
   "metadata": {},
   "outputs": [
    {
     "name": "stdout",
     "output_type": "stream",
     "text": [
      "Выбросы выборки:\n"
     ]
    }
   ],
   "source": [
    "outliers(X)"
   ]
  },
  {
   "cell_type": "markdown",
   "id": "06017c1c-0809-4e25-a207-7e279b7e43c6",
   "metadata": {},
   "source": [
    "## h"
   ]
  },
  {
   "cell_type": "code",
   "execution_count": 11,
   "id": "780c8ed6-8b2f-4727-81df-c1a41e46ae53",
   "metadata": {},
   "outputs": [
    {
     "name": "stdout",
     "output_type": "stream",
     "text": [
      "Коэффициент детерминации Rcv = 0.7751154042999068\n"
     ]
    }
   ],
   "source": [
    "cross_info(X)"
   ]
  },
  {
   "cell_type": "markdown",
   "id": "e73ebbfc-5cbf-4e31-ad80-3244da8ebdac",
   "metadata": {},
   "source": [
    "## i"
   ]
  },
  {
   "cell_type": "code",
   "execution_count": 13,
   "id": "23234e60-1fa3-4ac0-a19a-c8c9fdfd5941",
   "metadata": {},
   "outputs": [
    {
     "name": "stdout",
     "output_type": "stream",
     "text": [
      "Проверка в x0 = [-0.10306762  0.20011529  0.68606353 -0.54997521  0.11470595]: 5 раз\n",
      "pval = 0.528636785407727\n",
      "Гипотеза H0  является правдоподобной\n",
      "Регрессия  является адекватной\n"
     ]
    }
   ],
   "source": [
    "adequacy(X, 5)"
   ]
  },
  {
   "cell_type": "markdown",
   "id": "7f701e33-4972-4229-ac85-797722b503ec",
   "metadata": {},
   "source": [
    "## j"
   ]
  },
  {
   "cell_type": "code",
   "execution_count": 16,
   "id": "273c80eb-c6c3-4028-8390-5c8af8bb79ac",
   "metadata": {},
   "outputs": [
    {
     "name": "stdout",
     "output_type": "stream",
     "text": [
      "Наим. значимость (pval = 0.12) имеет b3\n",
      "\n",
      "Уравнение лин. регрессии: \n",
      "    1.51 + (2.51)*x1 + (-2.26)*x2 + (0.54)*x3 + (-1.57)*x4\n",
      "При этом коэффициент:\n",
      "\tb0  явл. значимым с p-val = 0.0\n",
      "\tb1  явл. значимым с p-val = 0.0\n",
      "\tb2  явл. значимым с p-val = 0.0\n",
      "\tb3 не явл. значимым с p-val = 0.1767\n",
      "\tb4  явл. значимым с p-val = 0.0001\n",
      "\n",
      "Коэффициент детерминации R = 0.80519228094499\n"
     ]
    }
   ],
   "source": [
    "X_del = del_maxp(X)\n",
    "print()\n",
    "regression_info(X_del)"
   ]
  },
  {
   "cell_type": "markdown",
   "id": "f2540975-17dc-431d-b8f8-8a1ead074897",
   "metadata": {},
   "source": [
    "## k"
   ]
  },
  {
   "cell_type": "code",
   "execution_count": 18,
   "id": "ad1abe74-d1e7-4bdf-b505-f7016bb97c2e",
   "metadata": {},
   "outputs": [
    {
     "name": "stdout",
     "output_type": "stream",
     "text": [
      "Уравнение лин. регрессии: \n",
      "    1.6 + (2.88)*x1 + (-2.22)*x2 + (0.58)*x3 + (1.06)*x4 + (-1.42)*x5\n",
      "При этом коэффициент:\n",
      "\tb0  явл. значимым с p-val = 0.0\n",
      "\tb1  явл. значимым с p-val = 0.0\n",
      "\tb2  явл. значимым с p-val = 0.0\n",
      "\tb3 не явл. значимым с p-val = 0.122\n",
      "\tb4  явл. значимым с p-val = 0.0113\n",
      "\tb5  явл. значимым с p-val = 0.0003\n",
      "\n",
      "Коэффициент детерминации R = 0.8340294573745411\n",
      "\n",
      "Наим. значимость (pval = 0.12) имеет b3\n",
      "\n",
      "Уравнение лин. регрессии: \n",
      "    1.51 + (2.51)*x1 + (-2.26)*x2 + (0.54)*x3 + (-1.57)*x4\n",
      "При этом коэффициент:\n",
      "\tb0  явл. значимым с p-val = 0.0\n",
      "\tb1  явл. значимым с p-val = 0.0\n",
      "\tb2  явл. значимым с p-val = 0.0\n",
      "\tb3 не явл. значимым с p-val = 0.1767\n",
      "\tb4  явл. значимым с p-val = 0.0001\n",
      "\n",
      "Коэффициент детерминации R = 0.80519228094499\n",
      "\n",
      "Удаление переменой имеет смысл(a) т.к. pval = 0.546\n"
     ]
    }
   ],
   "source": [
    "bootstrap_info(X)"
   ]
  },
  {
   "cell_type": "markdown",
   "id": "98fb18ff-ce20-4210-9d2e-4a763a8dfbfe",
   "metadata": {},
   "source": [
    "# \n",
    "\n",
    "# 2 задача"
   ]
  },
  {
   "cell_type": "code",
   "execution_count": 25,
   "id": "7a8175d9-25e4-4f52-8b89-1e5e2018af39",
   "metadata": {},
   "outputs": [
    {
     "name": "stdout",
     "output_type": "stream",
     "text": [
      "Уравнение линейной регрессии: \n",
      "84.0 + (85.5)*x1 + (87.82)*x2 + (90.0)*x3 + (91.0)*x4\n",
      "При этом коэффициент:\n",
      "\tb0  явл. значимым с p-val = 0.0\n",
      "\tb1  явл. значимым с p-val = 0.0\n",
      "\tb2  явл. значимым с p-val = 0.0\n",
      "\tb3  явл. значимым с p-val = 0.0\n",
      "\tb4  явл. значимым с p-val = 0.0\n",
      "\n",
      "Коэфф. детерм. r = 0.90033663737852\n",
      "\n",
      "Попарно коэфф.:\n",
      "\tb0 = b1 с p-val = 0.1031\n",
      "\tb0 != b2 с p-val = 0.0002\n",
      "\tb0 != b3 с p-val = 0.0\n",
      "\tb0 != b4 с p-val = 0.0\n",
      "\tb1 != b2 с p-val = 0.0004\n",
      "\tb1 != b3 с p-val = 0.0\n",
      "\tb1 != b4 с p-val = 0.0\n",
      "\tb2 != b3 с p-val = 0.0024\n",
      "\tb2 != b4 с p-val = 0.001\n",
      "\tb3 = b4 с p-val = 0.2958\n",
      "\n"
     ]
    }
   ],
   "source": [
    "import numpy as np\n",
    "from scipy.stats import t\n",
    "from scipy import integrate\n",
    "\n",
    "X = np.array([[1,0,0,0,0,83],\n",
    "              [1,0,0,0,0,85],\n",
    "              [0,1,0,0,0,84],\n",
    "              [0,1,0,0,0,85],\n",
    "              [0,1,0,0,0,85],\n",
    "              [0,1,0,0,0,86],\n",
    "              [0,1,0,0,0,86],\n",
    "              [0,1,0,0,0,87],\n",
    "              [0,0,1,0,0,86],\n",
    "              [0,0,1,0,0,87],\n",
    "              [0,0,1,0,0,87],\n",
    "              [0,0,1,0,0,87],\n",
    "              [0,0,1,0,0,88],\n",
    "              [0,0,1,0,0,88],\n",
    "              [0,0,1,0,0,88],\n",
    "              [0,0,1,0,0,88],\n",
    "              [0,0,1,0,0,88],\n",
    "              [0,0,1,0,0,89],\n",
    "              [0,0,1,0,0,90],\n",
    "              [0,0,0,1,0,89],\n",
    "              [0,0,0,1,0,90],\n",
    "              [0,0,0,1,0,90],\n",
    "              [0,0,0,1,0,91],\n",
    "              [0,0,0,0,1,90],\n",
    "              [0,0,0,0,1,92]])\n",
    "\n",
    "\n",
    "N, dim = X.shape[0], X.shape[1] - 1\n",
    "\n",
    "PSI = X.T[0:dim].T\n",
    "Y = X.T[dim].T\n",
    "\n",
    "F = np.matmul(PSI.T,PSI)\n",
    "F1 = np.linalg.inv(F)\n",
    "beta = np.matmul(np.matmul(F1, PSI.T), Y)\n",
    "\n",
    "e = Y - np.matmul(PSI, beta)\n",
    "RSS = np.matmul(e.T,e)\n",
    "TSS = np.sum((Y-np.mean(Y))**2)\n",
    "r = (1 - RSS / TSS) ** 0.5\n",
    "\n",
    "PVAL = []\n",
    "for i in range(len(beta)):\n",
    "    df = N-dim\n",
    "    delta = beta[i] * (df) ** 0.5 / (RSS * F1[i][i]) ** 0.5\n",
    "\n",
    "    def func(x):\n",
    "        return t.pdf(x, df, loc=0, scale=1)\n",
    "    pval, err = integrate.quad(func, np.abs(delta), np.inf)\n",
    "    PVAL.append(2*pval)\n",
    "\n",
    "pvald = []\n",
    "inds = []\n",
    "for i in range(len(beta) - 1):\n",
    "    for j in range(i+1, len(beta)):\n",
    "        inds.append((i, j))\n",
    "        df = N-dim\n",
    "        delta = (beta[i] - beta[j]) * (df) ** 0.5 / (RSS * (F1[i][i] + F1[j][j])) ** 0.5\n",
    "\n",
    "        def func(x):\n",
    "            return t.pdf(x, df, loc=0, scale=1)\n",
    "        pval, err = integrate.quad(func, np.abs(delta), np.inf)\n",
    "        pvald.append(2 * pval)\n",
    "\n",
    "print(f\"\"\"Уравнение линейной регрессии: \n",
    "{round(beta[0], 2)} + {' + '.join(f'({round(beta[i + 1], 2)})*x{i + 1}' for i in range(beta.shape[0] - 1))}\"\"\")\n",
    "\n",
    "print(\"При этом коэффициент:\")\n",
    "for i in range(len(PVAL)):\n",
    "    print(f\"\\tb{i} {(PVAL[i] >= 0.05) * 'не'} явл. значимым с p-val = {round(PVAL[i],4)}\")\n",
    "print()\n",
    "\n",
    "print(f\"Коэфф. детерм. r = {r}\\n\")\n",
    "\n",
    "print(\"Попарно коэфф.:\")\n",
    "for i in range(len(pvald)):\n",
    "    print(f\"\\tb{inds[i][0]} {(pvald[i]<0.05)*'!'}= b{inds[i][1]} с p-val = {round(pvald[i],4)}\")\n",
    "print()\n"
   ]
  }
 ],
 "metadata": {
  "kernelspec": {
   "display_name": "Python 3 (ipykernel)",
   "language": "python",
   "name": "python3"
  },
  "language_info": {
   "codemirror_mode": {
    "name": "ipython",
    "version": 3
   },
   "file_extension": ".py",
   "mimetype": "text/x-python",
   "name": "python",
   "nbconvert_exporter": "python",
   "pygments_lexer": "ipython3",
   "version": "3.8.3"
  }
 },
 "nbformat": 4,
 "nbformat_minor": 5
}
